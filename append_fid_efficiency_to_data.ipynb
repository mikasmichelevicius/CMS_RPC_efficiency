{
 "cells": [
  {
   "cell_type": "code",
   "execution_count": 1,
   "id": "turkish-adelaide",
   "metadata": {},
   "outputs": [],
   "source": [
    "import pandas as pd\n",
    "import numpy as np\n",
    "import os\n",
    "import sys"
   ]
  },
  {
   "cell_type": "code",
   "execution_count": 2,
   "id": "secondary-pepper",
   "metadata": {},
   "outputs": [
    {
     "name": "stdout",
     "output_type": "stream",
     "text": [
      "['325022', '321887', '322088', '321917', '322332', '325117', '323474', '324764', '322407', '324245', '322633', '324209', '321908', '324747', '323700', '324729', '325170', '321961', '322319', '321818', '323524', '325172', '322179', '322605', '325000', '322381', '323693', '325057', '324202', '323857', '323725', '321975', '322348', '321774', '321834', '323775', '321988', '321777', '321780', '324998', '322324', '321879', '321755', '324980', '323997', '323526', '323493', '324772', '322022', '324237', '324835', '324318', '322204', '322079', '325101', '322355', '323696', '324997', '323473', '324878', '321833', '321730', '324021', '323488', '322106', '324769', '321732', '323778', '324022', '321990', '323727', '324791', '324897', '321973', '323790', '322356', '323841', '324841', '321933', '321712', '323487', '321813', '324315', '322625', '323983', '325099', '324293', '324970', '322068', '325001', '321760', '322617', '321909', '321781', '321831', '322431', '323755', '324205', '325159', '321758', '321475', '321794', '323940', '324201', '325100', '321832', '324846', '322599', '324206', '322252', '323980', '324785', '321820', '321880', '323495', '322118', '324420', '324765', '322430', '323525', '324077', '322113', '323702', '321735', '322222', '322492', '321817', '324078', '322480', '322201', '321778', '322322']\n",
      "132\n"
     ]
    }
   ],
   "source": [
    "# Collisions directory runs:\n",
    "col_dirs = os.listdir('Collisions/')\n",
    "print(col_dirs)\n",
    "# Cosmics directory runs:\n",
    "# cos_dirs = os.listdir('Cosmics/')\n",
    "# print(cos_dirs)\n",
    "print(len(col_dirs))"
   ]
  },
  {
   "cell_type": "code",
   "execution_count": 3,
   "id": "alive-looking",
   "metadata": {},
   "outputs": [],
   "source": [
    "for run_dir in col_dirs:\n",
    "    data = pd.read_csv('Collisions/'+run_dir+'/'+run_dir+'.csv')\n",
    "    fid_eff = pd.read_csv('Collisions/'+run_dir+'/fid_with_roll.csv')\n",
    "    final_dataset = pd.merge(data, fid_eff, on='chamber', how='left')\n",
    "    final_dataset.to_csv('Collisions/'+run_dir+'/'+run_dir+'_final2.csv', index=False)"
   ]
  },
  {
   "cell_type": "code",
   "execution_count": 55,
   "id": "anticipated-clear",
   "metadata": {},
   "outputs": [],
   "source": [
    "# for run_dir in cos_dirs:\n",
    "#     data = pd.read_csv('Cosmics/'+run_dir+'/'+run_dir+'.csv')\n",
    "#     fid_eff = pd.read_csv('Cosmics/'+run_dir+'/avg_fid_eff.csv')\n",
    "#     final_dataset = pd.merge(data, fid_eff, on='chamber', how='left')\n",
    "#     final_dataset.to_csv('Cosmics/'+run_dir+'/'+run_dir+'_final.csv', index=False)"
   ]
  }
 ],
 "metadata": {
  "kernelspec": {
   "display_name": "Python 3",
   "language": "python",
   "name": "python3"
  },
  "language_info": {
   "codemirror_mode": {
    "name": "ipython",
    "version": 3
   },
   "file_extension": ".py",
   "mimetype": "text/x-python",
   "name": "python",
   "nbconvert_exporter": "python",
   "pygments_lexer": "ipython3",
   "version": "3.9.6"
  }
 },
 "nbformat": 4,
 "nbformat_minor": 5
}
