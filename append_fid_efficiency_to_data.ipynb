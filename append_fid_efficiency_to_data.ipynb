{
 "cells": [
  {
   "cell_type": "code",
   "execution_count": 19,
   "id": "turkish-adelaide",
   "metadata": {},
   "outputs": [],
   "source": [
    "import pandas as pd\n",
    "import numpy as np\n",
    "import os\n",
    "import sys"
   ]
  },
  {
   "cell_type": "code",
   "execution_count": 49,
   "id": "secondary-pepper",
   "metadata": {},
   "outputs": [
    {
     "name": "stdout",
     "output_type": "stream",
     "text": [
      "['320917', '322179', '324980', '322022', '324878', '321305', '324293', '324970', '321457', '321475']\n",
      "['320464', '321047', '321504', '324714', '321624', '324148', '323586', '324344', '322670', '323644']\n"
     ]
    }
   ],
   "source": [
    "# Collisions directory runs:\n",
    "col_dirs = os.listdir('Collisions/')\n",
    "print(col_dirs)\n",
    "# Cosmics directory runs:\n",
    "cos_dirs = os.listdir('Cosmics/')\n",
    "print(cos_dirs)"
   ]
  },
  {
   "cell_type": "code",
   "execution_count": 53,
   "id": "alive-looking",
   "metadata": {},
   "outputs": [],
   "source": [
    "for run_dir in col_dirs:\n",
    "    data = pd.read_csv('Collisions/'+run_dir+'/'+run_dir+'.csv')\n",
    "    fid_eff = pd.read_csv('Collisions/'+run_dir+'/avg_fid_eff.csv')\n",
    "    final_dataset = pd.merge(data, fid_eff, on='chamber', how='left')\n",
    "    final_dataset.to_csv('Collisions/'+run_dir+'/'+run_dir+'_final.csv', index=False)"
   ]
  },
  {
   "cell_type": "code",
   "execution_count": 55,
   "id": "anticipated-clear",
   "metadata": {},
   "outputs": [],
   "source": [
    "for run_dir in cos_dirs:\n",
    "    data = pd.read_csv('Cosmics/'+run_dir+'/'+run_dir+'.csv')\n",
    "    fid_eff = pd.read_csv('Cosmics/'+run_dir+'/avg_fid_eff.csv')\n",
    "    final_dataset = pd.merge(data, fid_eff, on='chamber', how='left')\n",
    "    final_dataset.to_csv('Cosmics/'+run_dir+'/'+run_dir+'_final.csv', index=False)"
   ]
  }
 ],
 "metadata": {
  "kernelspec": {
   "display_name": "Python 3",
   "language": "python",
   "name": "python3"
  },
  "language_info": {
   "codemirror_mode": {
    "name": "ipython",
    "version": 3
   },
   "file_extension": ".py",
   "mimetype": "text/x-python",
   "name": "python",
   "nbconvert_exporter": "python",
   "pygments_lexer": "ipython3",
   "version": "3.9.5"
  }
 },
 "nbformat": 4,
 "nbformat_minor": 5
}
